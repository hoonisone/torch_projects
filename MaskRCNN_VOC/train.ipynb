{
 "cells": [
  {
   "attachments": {},
   "cell_type": "markdown",
   "id": "a32a6c18",
   "metadata": {},
   "source": [
    "# Impoart"
   ]
  },
  {
   "cell_type": "code",
   "execution_count": 1,
   "id": "13c87413",
   "metadata": {},
   "outputs": [],
   "source": [
    "import import_ipynb\n",
    "\n",
    "import tqdm\n",
    "import torch\n",
    "import pickle\n",
    "import torchvision\n",
    "\n",
    "import numpy as np\n",
    "import bbox_visualizer as bbv\n",
    "import matplotlib.pyplot as plt\n",
    "\n",
    "import os\n",
    "\n",
    "from pathlib import Path\n",
    "from VOC2012_MaskRCNN_InstanceSegmentation import *\n",
    "from torch.nn.parallel import DistributedDataParallel as DDP"
   ]
  },
  {
   "cell_type": "code",
   "execution_count": 2,
   "id": "2ad98b88",
   "metadata": {},
   "outputs": [],
   "source": [
    "def train_val(model, train_data_loader, val_data_loader, optimizer, scheduler, epoch = 1, device = \"cpu\",\n",
    "    val_frequence = 1, print_frequency = None, step_save_frequency =  None, save_dir = \"\"):\n",
    "    \"\"\"\n",
    "    [Operation]\n",
    "        입력된 모델과 데이터에 대해 정해진 에폭만큼 train, val을 수행하고 결과 반환\n",
    "    \"\"\"\n",
    "    Path(save_dir).mkdir(parents=True, exist_ok=True)\n",
    "\n",
    "    train_loss_list, val_loss_list = [], []\n",
    "\n",
    "    for e in range(1, epoch+1):\n",
    "        # train_loss 계산 및 학습\n",
    "        train_loss = Task.train_one_epoch(model, train_data_loader, optimizer, scheduler, device)\n",
    "        train_loss_list.append(train_loss)\n",
    "\n",
    "        # val_frequence 마다 한 번씩 val_loss 계산\n",
    "        val_loss = Task.loss_eval(model, device, val_data_loader) if (e % val_frequence == 0) else val_loss_list[-1]        \n",
    "        val_loss_list.append(val_loss)\n",
    "\n",
    "        # print_frequency마다 한번 씩 loss 출력\n",
    "        if (print_frequency is not None) and (e % print_frequency == 0):\n",
    "            print(f\"epoch({e}) train_loss: {train_loss} val_loss: {val_loss}\")\n",
    "\n",
    "        if (step_save_frequency is not None) and (e%step_save_frequency == 0):\n",
    "            torch.save(model.state_dict(), f\"{save_dir}/step_model({e}-epoch)\")\n",
    "\n",
    "        \n",
    "    loss_dict = {\"train_loss_list\": train_loss_list, \"val_loss_list\": val_loss_list}\n",
    "\n",
    "    with open(f\"{save_dir}/loss_dict.p\", 'wb') as file:\n",
    "        pickle.dump(loss_dict, file)\n",
    "\n",
    "\n",
    "    torch.save(model.state_dict(), f\"{save_dir}/final_model({epoch}-epoch)\")\n",
    "\n"
   ]
  },
  {
   "cell_type": "code",
   "execution_count": null,
   "id": "4f0c0b0e",
   "metadata": {},
   "outputs": [],
   "source": []
  },
  {
   "cell_type": "code",
   "execution_count": 3,
   "id": "f345dd94",
   "metadata": {},
   "outputs": [
    {
     "name": "stderr",
     "output_type": "stream",
     "text": [
      "/opt/conda/lib/python3.7/site-packages/torchvision/models/_utils.py:209: UserWarning: The parameter 'pretrained' is deprecated since 0.13 and may be removed in the future, please use 'weights' instead.\n",
      "  f\"The parameter '{pretrained_param}' is deprecated since 0.13 and may be removed in the future, \"\n",
      "/opt/conda/lib/python3.7/site-packages/torchvision/models/_utils.py:223: UserWarning: Arguments other than a weight enum or `None` for 'weights' are deprecated since 0.13 and may be removed in the future. The current behavior is equivalent to passing `weights=MaskRCNN_ResNet50_FPN_V2_Weights.COCO_V1`. You can also use `weights=MaskRCNN_ResNet50_FPN_V2_Weights.DEFAULT` to get the most up-to-date weights.\n",
      "  warnings.warn(msg)\n",
      " 24%|██▍       | 36/147 [03:42<10:34,  5.71s/it]"
     ]
    }
   ],
   "source": [
    "def setup(rank, world_size):\n",
    "    os.environ['MASTER_ADDR'] = 'localhost'\n",
    "    os.environ['MASTER_PORT'] = '12355'\n",
    "\n",
    "    # 작업 그룹 초기화\n",
    "    torch.distributed.init_process_group(\"nccl\", rank=rank, world_size=world_size)\n",
    "\n",
    "def cleanup():\n",
    "    torch.distributed.destroy_process_group()\n",
    "\n",
    "\n",
    "def parallel(rank = 0, world_size=1):\n",
    "    setup(rank, world_size)\n",
    "\n",
    "\n",
    "    np.random.seed(0)\n",
    "\n",
    "    device = rank if rank != None else \"cpu\"\n",
    "    model = Task.get_model().to(rank)\n",
    "    model = DDP(model, device_ids=[rank])\n",
    "    t_dataset, t_dataloader, v_dataset, v_dataloader = Task.get_dataset_and_loader(10, rank=rank, world_size=world_size)\n",
    "    params = [p for p in model.parameters() if p.requires_grad]\n",
    "    optimizer = torch.optim.SGD(params, lr=0.01, momentum=0.9, weight_decay=0.0005)\n",
    "    scheduler = torch.optim.lr_scheduler.LambdaLR(optimizer=optimizer, lr_lambda=lambda epoch: 0.95 ** epoch, last_epoch=-1, verbose=False)\n",
    "\n",
    "\n",
    "    train_val(model, t_dataloader, v_dataloader, optimizer = optimizer, scheduler = scheduler,\n",
    "            epoch=200, device = device,\n",
    "        val_frequence = 1, print_frequency = 10, step_save_frequency = 10, save_dir = \"result/test\")\n",
    "    \n",
    "    cleanup()\n",
    "    \n",
    "parallel(rank = 0, world_size=1)\n"
   ]
  },
  {
   "attachments": {},
   "cell_type": "markdown",
   "id": "4d7989d0",
   "metadata": {},
   "source": []
  },
  {
   "attachments": {},
   "cell_type": "markdown",
   "id": "3bdf2154",
   "metadata": {},
   "source": []
  },
  {
   "attachments": {},
   "cell_type": "markdown",
   "id": "b1ae7c0d",
   "metadata": {},
   "source": [
    "##### Train"
   ]
  },
  {
   "cell_type": "code",
   "execution_count": 3,
   "id": "d5d8c5e1",
   "metadata": {},
   "outputs": [],
   "source": [
    "from torchvision.models.detection import roi_heads\n",
    "from torchvision.models.detection.roi_heads import * \n",
    "\n",
    "def boundary_mask(mask, filter_size = 1):\n",
    "    n = filter_size**2\n",
    "    conv = torch.nn.Conv2d(1, 1, (filter_size, filter_size), bias = False, padding=\"same\").to(device)\n",
    "    with torch.no_grad():\n",
    "        conv.weight[0, 0] = 1\n",
    "    mask = conv(mask)\n",
    "    mask = torch.abs(mask - np.ceil(n/2)) < n/2-1\n",
    "    return mask\n",
    "\n",
    "def my_maskrcnn_loss(mask_logits, proposals, gt_masks, gt_labels, mask_matched_idxs): \n",
    "    # type: (Tensor, List[Tensor], List[Tensor], List[Tensor], List[Tensor]) \n",
    "    \"\"\" \n",
    "    Arguments: \n",
    "        proposals (list[BoxList]) \n",
    "        mask_logits (Tensor) \n",
    "        targets (list[BoxList]) \n",
    "\n",
    "    Return: \n",
    "        mask_loss (Tensor): scalar tensor containing the loss \n",
    "    \"\"\" \n",
    "\n",
    "    \n",
    "    discretization_size = mask_logits.shape[-1] \n",
    "    labels = [l[idxs] for l, idxs in zip(gt_labels, mask_matched_idxs)] \n",
    "    mask_targets = [ \n",
    "        project_masks_on_boxes(m, p, i, discretization_size) \n",
    "        for m, p, i in zip(gt_masks, proposals, mask_matched_idxs) \n",
    "    ] \n",
    "\n",
    "    labels = torch.cat(labels, dim=0) \n",
    "    mask_targets = torch.cat(mask_targets, dim=0) \n",
    "\n",
    "    # torch.mean (in binary_cross_entropy_with_logits) doesn't \n",
    "    # accept empty tensors, so handle it separately \n",
    "    if mask_targets.numel() == 0: \n",
    "        return mask_logits.sum() * 0 \n",
    "\n",
    "    # Weight\n",
    "    if BOUNDARY_LOSS = True:\n",
    "        mask_weights = [boundary_mask(mask_target.unsqueeze(0), BOUNDARY_SIZE).squeeze() for mask_target in mask_targets]\n",
    "        mask_weights = 1+torch.stack(mask_weights)\n",
    "    else:\n",
    "        mask_weights = False\n",
    "        \n",
    "    mask_loss = F.binary_cross_entropy_with_logits( \n",
    "        mask_logits[torch.arange(labels.shape[0], device=labels.device), labels], mask_targets , weight=mask_weights\n",
    "    ) \n",
    "    # mask_loss = F.binary_cross_entropy_with_logits( \n",
    "    #     mask_logits[torch.arange(labels.shape[0], device=labels.device), labels], mask_targets\n",
    "    # ) \n",
    "    return mask_loss \n",
    "\n",
    "roi_heads.maskrcnn_loss = my_maskrcnn_loss"
   ]
  },
  {
   "cell_type": "code",
   "execution_count": 4,
   "id": "95b441d3",
   "metadata": {},
   "outputs": [
    {
     "name": "stderr",
     "output_type": "stream",
     "text": [
      "/opt/conda/lib/python3.8/site-packages/torchvision/models/_utils.py:208: UserWarning: The parameter 'pretrained' is deprecated since 0.13 and may be removed in the future, please use 'weights' instead.\n",
      "  warnings.warn(\n",
      "/opt/conda/lib/python3.8/site-packages/torchvision/models/_utils.py:223: UserWarning: Arguments other than a weight enum or `None` for 'weights' are deprecated since 0.13 and may be removed in the future. The current behavior is equivalent to passing `weights=MaskRCNN_ResNet50_FPN_V2_Weights.COCO_V1`. You can also use `weights=MaskRCNN_ResNet50_FPN_V2_Weights.DEFAULT` to get the most up-to-date weights.\n",
      "  warnings.warn(msg)\n",
      "100%|██████████| 147/147 [01:42<00:00,  1.44it/s]\n",
      "100%|██████████| 147/147 [01:08<00:00,  2.15it/s]\n",
      "100%|██████████| 147/147 [01:49<00:00,  1.34it/s]\n",
      "100%|██████████| 147/147 [01:12<00:00,  2.02it/s]\n",
      "100%|██████████| 147/147 [01:49<00:00,  1.34it/s]\n",
      "100%|██████████| 147/147 [01:13<00:00,  2.00it/s]\n",
      "100%|██████████| 147/147 [01:50<00:00,  1.33it/s]\n",
      "100%|██████████| 147/147 [01:12<00:00,  2.03it/s]\n",
      "100%|██████████| 147/147 [01:50<00:00,  1.33it/s]\n",
      "100%|██████████| 147/147 [01:13<00:00,  2.00it/s]\n",
      "100%|██████████| 147/147 [01:50<00:00,  1.33it/s]\n",
      "100%|██████████| 147/147 [01:13<00:00,  1.99it/s]\n",
      "100%|██████████| 147/147 [01:50<00:00,  1.33it/s]\n",
      "100%|██████████| 147/147 [01:12<00:00,  2.03it/s]\n",
      "100%|██████████| 147/147 [01:49<00:00,  1.34it/s]\n",
      "100%|██████████| 147/147 [01:13<00:00,  2.01it/s]\n",
      "100%|██████████| 147/147 [01:49<00:00,  1.35it/s]\n",
      "100%|██████████| 147/147 [01:14<00:00,  1.98it/s]\n",
      "100%|██████████| 147/147 [01:50<00:00,  1.33it/s]\n",
      "100%|██████████| 147/147 [01:13<00:00,  2.01it/s]\n"
     ]
    },
    {
     "name": "stdout",
     "output_type": "stream",
     "text": [
      "epoch(10) train_loss: 0.06045083701610565 val_loss: 0.061325836926698685\n"
     ]
    },
    {
     "name": "stderr",
     "output_type": "stream",
     "text": [
      "100%|██████████| 147/147 [01:50<00:00,  1.32it/s]\n",
      "100%|██████████| 147/147 [01:13<00:00,  2.00it/s]\n",
      "100%|██████████| 147/147 [01:50<00:00,  1.33it/s]\n",
      "100%|██████████| 147/147 [01:12<00:00,  2.02it/s]\n",
      "100%|██████████| 147/147 [01:50<00:00,  1.33it/s]\n",
      "100%|██████████| 147/147 [01:13<00:00,  1.99it/s]\n",
      "100%|██████████| 147/147 [01:49<00:00,  1.34it/s]\n",
      "100%|██████████| 147/147 [01:13<00:00,  2.00it/s]\n",
      "100%|██████████| 147/147 [01:50<00:00,  1.33it/s]\n",
      "100%|██████████| 147/147 [01:13<00:00,  1.99it/s]\n",
      "100%|██████████| 147/147 [01:50<00:00,  1.33it/s]\n",
      "100%|██████████| 147/147 [01:12<00:00,  2.04it/s]\n",
      "100%|██████████| 147/147 [01:50<00:00,  1.34it/s]\n",
      "100%|██████████| 147/147 [01:12<00:00,  2.03it/s]\n",
      "100%|██████████| 147/147 [01:50<00:00,  1.33it/s]\n",
      "100%|██████████| 147/147 [01:13<00:00,  2.01it/s]\n",
      "100%|██████████| 147/147 [01:50<00:00,  1.33it/s]\n",
      "100%|██████████| 147/147 [01:12<00:00,  2.03it/s]\n",
      "100%|██████████| 147/147 [01:49<00:00,  1.34it/s]\n",
      "100%|██████████| 147/147 [01:13<00:00,  1.99it/s]\n"
     ]
    },
    {
     "name": "stdout",
     "output_type": "stream",
     "text": [
      "epoch(20) train_loss: 0.045523952692747116 val_loss: 0.046931490302085876\n"
     ]
    },
    {
     "name": "stderr",
     "output_type": "stream",
     "text": [
      "100%|██████████| 147/147 [01:50<00:00,  1.33it/s]\n",
      "100%|██████████| 147/147 [01:12<00:00,  2.02it/s]\n",
      "100%|██████████| 147/147 [01:50<00:00,  1.33it/s]\n",
      "100%|██████████| 147/147 [01:13<00:00,  2.00it/s]\n",
      "100%|██████████| 147/147 [01:50<00:00,  1.33it/s]\n",
      "100%|██████████| 147/147 [01:13<00:00,  2.01it/s]\n",
      "100%|██████████| 147/147 [01:49<00:00,  1.34it/s]\n",
      "100%|██████████| 147/147 [01:12<00:00,  2.02it/s]\n",
      "100%|██████████| 147/147 [01:49<00:00,  1.34it/s]\n",
      "100%|██████████| 147/147 [01:13<00:00,  1.99it/s]\n",
      "100%|██████████| 147/147 [01:49<00:00,  1.34it/s]\n",
      "100%|██████████| 147/147 [01:13<00:00,  2.00it/s]\n",
      "100%|██████████| 147/147 [01:49<00:00,  1.34it/s]\n",
      "100%|██████████| 147/147 [01:12<00:00,  2.02it/s]\n",
      "100%|██████████| 147/147 [01:50<00:00,  1.33it/s]\n",
      "100%|██████████| 147/147 [01:13<00:00,  2.01it/s]\n",
      "100%|██████████| 147/147 [01:49<00:00,  1.34it/s]\n",
      "100%|██████████| 147/147 [01:13<00:00,  2.01it/s]\n",
      "100%|██████████| 147/147 [01:49<00:00,  1.34it/s]\n",
      "100%|██████████| 147/147 [01:12<00:00,  2.01it/s]\n"
     ]
    },
    {
     "name": "stdout",
     "output_type": "stream",
     "text": [
      "epoch(30) train_loss: 0.040491797029972076 val_loss: 0.041505053639411926\n"
     ]
    },
    {
     "name": "stderr",
     "output_type": "stream",
     "text": [
      "100%|██████████| 147/147 [01:50<00:00,  1.33it/s]\n",
      "100%|██████████| 147/147 [01:13<00:00,  2.01it/s]\n",
      "100%|██████████| 147/147 [01:51<00:00,  1.32it/s]\n",
      "100%|██████████| 147/147 [01:13<00:00,  2.01it/s]\n",
      "100%|██████████| 147/147 [01:50<00:00,  1.33it/s]\n",
      "100%|██████████| 147/147 [01:13<00:00,  2.01it/s]\n",
      "100%|██████████| 147/147 [01:49<00:00,  1.35it/s]\n",
      "100%|██████████| 147/147 [01:13<00:00,  2.00it/s]\n",
      "100%|██████████| 147/147 [01:50<00:00,  1.33it/s]\n",
      "100%|██████████| 147/147 [01:12<00:00,  2.03it/s]\n",
      "100%|██████████| 147/147 [01:51<00:00,  1.32it/s]\n",
      "100%|██████████| 147/147 [01:13<00:00,  2.00it/s]\n",
      "100%|██████████| 147/147 [01:50<00:00,  1.34it/s]\n",
      "100%|██████████| 147/147 [01:13<00:00,  2.01it/s]\n",
      "100%|██████████| 147/147 [01:51<00:00,  1.32it/s]\n",
      "100%|██████████| 147/147 [01:14<00:00,  1.98it/s]\n",
      "100%|██████████| 147/147 [01:50<00:00,  1.33it/s]\n",
      "100%|██████████| 147/147 [01:13<00:00,  2.00it/s]\n",
      "100%|██████████| 147/147 [01:50<00:00,  1.33it/s]\n",
      "100%|██████████| 147/147 [01:12<00:00,  2.03it/s]\n"
     ]
    },
    {
     "name": "stdout",
     "output_type": "stream",
     "text": [
      "epoch(40) train_loss: 0.03834081441164017 val_loss: 0.038937631994485855\n"
     ]
    },
    {
     "name": "stderr",
     "output_type": "stream",
     "text": [
      "100%|██████████| 147/147 [01:50<00:00,  1.33it/s]\n",
      "100%|██████████| 147/147 [01:13<00:00,  2.01it/s]\n",
      "100%|██████████| 147/147 [01:50<00:00,  1.33it/s]\n",
      "100%|██████████| 147/147 [01:12<00:00,  2.01it/s]\n",
      "100%|██████████| 147/147 [01:50<00:00,  1.33it/s]\n",
      "100%|██████████| 147/147 [01:14<00:00,  1.98it/s]\n",
      "100%|██████████| 147/147 [01:50<00:00,  1.34it/s]\n",
      "100%|██████████| 147/147 [01:13<00:00,  2.01it/s]\n",
      "100%|██████████| 147/147 [01:50<00:00,  1.33it/s]\n",
      "100%|██████████| 147/147 [01:13<00:00,  2.00it/s]\n",
      "100%|██████████| 147/147 [01:50<00:00,  1.33it/s]\n",
      "100%|██████████| 147/147 [01:13<00:00,  2.01it/s]\n",
      "100%|██████████| 147/147 [01:50<00:00,  1.33it/s]\n",
      "100%|██████████| 147/147 [01:13<00:00,  2.01it/s]\n",
      "100%|██████████| 147/147 [01:50<00:00,  1.33it/s]\n",
      "100%|██████████| 147/147 [01:14<00:00,  1.98it/s]\n",
      "100%|██████████| 147/147 [01:50<00:00,  1.33it/s]\n",
      "100%|██████████| 147/147 [01:14<00:00,  1.98it/s]\n",
      "100%|██████████| 147/147 [01:49<00:00,  1.34it/s]\n",
      "100%|██████████| 147/147 [01:13<00:00,  2.01it/s]\n"
     ]
    },
    {
     "name": "stdout",
     "output_type": "stream",
     "text": [
      "epoch(50) train_loss: 0.037238284945487976 val_loss: 0.03752163425087929\n"
     ]
    }
   ],
   "source": [
    "BOUNDARY_LOSS = True\n",
    "BOUNDARY_SIZE = 1\n",
    "np.random.seed(0)\n",
    "device = torch.device(\"cuda:0\" if torch.cuda.is_available() else \"cpu\")\n",
    "t_dataset, t_dataloader, v_dataset, v_dataloader = Task.get_dataset_and_loader(10)\n",
    "model = Task.get_model()\n",
    "\n",
    "train_val(model, t_dataloader, v_dataloader, epoch=50, device = device, \n",
    "    val_frequence = 1, print_frequency = 10, step_save_frequency = 10, save_dir = \"result/boundary_loss(size=1)\")\n"
   ]
  },
  {
   "cell_type": "code",
   "execution_count": 5,
   "id": "9e1698f1",
   "metadata": {},
   "outputs": [
    {
     "name": "stderr",
     "output_type": "stream",
     "text": [
      "  0%|          | 0/147 [00:00<?, ?it/s]/opt/conda/lib/python3.8/site-packages/torch/nn/modules/conv.py:459: UserWarning: Using padding='same' with even kernel lengths and odd dilation may require a zero-padded copy of the input be created (Triggered internally at ../aten/src/ATen/native/Convolution.cpp:895.)\n",
      "  return F.conv2d(input, weight, bias, self.stride,\n",
      "100%|██████████| 147/147 [01:50<00:00,  1.33it/s]\n",
      "100%|██████████| 147/147 [01:14<00:00,  1.97it/s]\n",
      "100%|██████████| 147/147 [01:52<00:00,  1.31it/s]\n",
      "100%|██████████| 147/147 [01:14<00:00,  1.97it/s]\n",
      "100%|██████████| 147/147 [01:52<00:00,  1.31it/s]\n",
      "100%|██████████| 147/147 [01:14<00:00,  1.98it/s]\n",
      "100%|██████████| 147/147 [01:53<00:00,  1.30it/s]\n",
      "100%|██████████| 147/147 [01:15<00:00,  1.94it/s]\n",
      "100%|██████████| 147/147 [01:51<00:00,  1.32it/s]\n",
      "100%|██████████| 147/147 [01:15<00:00,  1.96it/s]\n",
      "100%|██████████| 147/147 [01:52<00:00,  1.31it/s]\n",
      "100%|██████████| 147/147 [01:15<00:00,  1.96it/s]\n",
      "100%|██████████| 147/147 [01:52<00:00,  1.31it/s]\n",
      "100%|██████████| 147/147 [01:15<00:00,  1.95it/s]\n",
      "100%|██████████| 147/147 [01:51<00:00,  1.32it/s]\n",
      "100%|██████████| 147/147 [01:15<00:00,  1.95it/s]\n",
      "100%|██████████| 147/147 [01:54<00:00,  1.29it/s]\n",
      "100%|██████████| 147/147 [01:16<00:00,  1.92it/s]\n",
      "100%|██████████| 147/147 [01:55<00:00,  1.27it/s]\n",
      "100%|██████████| 147/147 [01:15<00:00,  1.95it/s]\n"
     ]
    },
    {
     "name": "stdout",
     "output_type": "stream",
     "text": [
      "epoch(10) train_loss: 0.085898257791996 val_loss: 0.088671013712883\n"
     ]
    },
    {
     "name": "stderr",
     "output_type": "stream",
     "text": [
      "100%|██████████| 147/147 [01:52<00:00,  1.31it/s]\n",
      "100%|██████████| 147/147 [01:14<00:00,  1.96it/s]\n",
      "100%|██████████| 147/147 [01:52<00:00,  1.31it/s]\n",
      "100%|██████████| 147/147 [01:14<00:00,  1.98it/s]\n",
      "100%|██████████| 147/147 [01:52<00:00,  1.31it/s]\n",
      "100%|██████████| 147/147 [01:14<00:00,  1.98it/s]\n",
      "100%|██████████| 147/147 [01:52<00:00,  1.30it/s]\n",
      "100%|██████████| 147/147 [01:14<00:00,  1.96it/s]\n",
      "100%|██████████| 147/147 [01:51<00:00,  1.32it/s]\n",
      "100%|██████████| 147/147 [01:14<00:00,  1.97it/s]\n",
      "100%|██████████| 147/147 [01:51<00:00,  1.31it/s]\n",
      "100%|██████████| 147/147 [01:14<00:00,  1.96it/s]\n",
      "100%|██████████| 147/147 [01:52<00:00,  1.31it/s]\n",
      "100%|██████████| 147/147 [01:15<00:00,  1.95it/s]\n",
      "100%|██████████| 147/147 [01:51<00:00,  1.31it/s]\n",
      "100%|██████████| 147/147 [01:16<00:00,  1.93it/s]\n",
      "100%|██████████| 147/147 [01:52<00:00,  1.31it/s]\n",
      "100%|██████████| 147/147 [01:16<00:00,  1.92it/s]\n",
      "100%|██████████| 147/147 [01:51<00:00,  1.31it/s]\n",
      "100%|██████████| 147/147 [01:13<00:00,  2.01it/s]\n"
     ]
    },
    {
     "name": "stdout",
     "output_type": "stream",
     "text": [
      "epoch(20) train_loss: 0.06755546480417252 val_loss: 0.07014336436986923\n"
     ]
    },
    {
     "name": "stderr",
     "output_type": "stream",
     "text": [
      "100%|██████████| 147/147 [01:49<00:00,  1.34it/s]\n",
      "100%|██████████| 147/147 [01:13<00:00,  2.00it/s]\n",
      "100%|██████████| 147/147 [01:48<00:00,  1.35it/s]\n",
      "100%|██████████| 147/147 [01:15<00:00,  1.94it/s]\n",
      "100%|██████████| 147/147 [01:52<00:00,  1.31it/s]\n",
      "100%|██████████| 147/147 [01:15<00:00,  1.94it/s]\n",
      "100%|██████████| 147/147 [01:52<00:00,  1.31it/s]\n",
      "100%|██████████| 147/147 [01:14<00:00,  1.96it/s]\n",
      "100%|██████████| 147/147 [01:52<00:00,  1.30it/s]\n",
      "100%|██████████| 147/147 [01:15<00:00,  1.95it/s]\n",
      "100%|██████████| 147/147 [01:52<00:00,  1.30it/s]\n",
      "100%|██████████| 147/147 [01:14<00:00,  1.99it/s]\n",
      "100%|██████████| 147/147 [01:52<00:00,  1.31it/s]\n",
      "100%|██████████| 147/147 [01:15<00:00,  1.95it/s]\n",
      "100%|██████████| 147/147 [01:51<00:00,  1.31it/s]\n",
      "100%|██████████| 147/147 [01:15<00:00,  1.96it/s]\n",
      "100%|██████████| 147/147 [01:51<00:00,  1.32it/s]\n",
      "100%|██████████| 147/147 [01:15<00:00,  1.96it/s]\n",
      "100%|██████████| 147/147 [01:52<00:00,  1.31it/s]\n",
      "100%|██████████| 147/147 [01:15<00:00,  1.95it/s]\n",
      "  0%|          | 0/147 [00:00<?, ?it/s]"
     ]
    },
    {
     "name": "stdout",
     "output_type": "stream",
     "text": [
      "epoch(30) train_loss: 0.06089160963892937 val_loss: 0.06226196885108948\n"
     ]
    },
    {
     "name": "stderr",
     "output_type": "stream",
     "text": [
      "100%|██████████| 147/147 [01:52<00:00,  1.30it/s]\n",
      "100%|██████████| 147/147 [01:15<00:00,  1.93it/s]\n",
      "100%|██████████| 147/147 [01:51<00:00,  1.31it/s]\n",
      "100%|██████████| 147/147 [01:14<00:00,  1.96it/s]\n",
      "100%|██████████| 147/147 [01:51<00:00,  1.31it/s]\n",
      "100%|██████████| 147/147 [01:15<00:00,  1.96it/s]\n",
      "100%|██████████| 147/147 [01:53<00:00,  1.30it/s]\n",
      "100%|██████████| 147/147 [01:15<00:00,  1.95it/s]\n",
      "100%|██████████| 147/147 [01:52<00:00,  1.31it/s]\n",
      "100%|██████████| 147/147 [01:14<00:00,  1.97it/s]\n",
      "100%|██████████| 147/147 [01:52<00:00,  1.31it/s]\n",
      "100%|██████████| 147/147 [01:14<00:00,  1.97it/s]\n",
      "100%|██████████| 147/147 [01:53<00:00,  1.29it/s]\n",
      "100%|██████████| 147/147 [01:16<00:00,  1.93it/s]\n",
      "100%|██████████| 147/147 [01:51<00:00,  1.31it/s]\n",
      "100%|██████████| 147/147 [01:15<00:00,  1.95it/s]\n",
      "100%|██████████| 147/147 [01:51<00:00,  1.31it/s]\n",
      "100%|██████████| 147/147 [01:15<00:00,  1.94it/s]\n",
      "100%|██████████| 147/147 [01:52<00:00,  1.31it/s]\n",
      "100%|██████████| 147/147 [01:15<00:00,  1.95it/s]\n",
      "  0%|          | 0/147 [00:00<?, ?it/s]"
     ]
    },
    {
     "name": "stdout",
     "output_type": "stream",
     "text": [
      "epoch(40) train_loss: 0.05814626067876816 val_loss: 0.05889860913157463\n"
     ]
    },
    {
     "name": "stderr",
     "output_type": "stream",
     "text": [
      "100%|██████████| 147/147 [01:53<00:00,  1.30it/s]\n",
      "100%|██████████| 147/147 [01:16<00:00,  1.93it/s]\n",
      "100%|██████████| 147/147 [01:52<00:00,  1.31it/s]\n",
      "100%|██████████| 147/147 [01:15<00:00,  1.95it/s]\n",
      "100%|██████████| 147/147 [01:52<00:00,  1.30it/s]\n",
      "100%|██████████| 147/147 [01:15<00:00,  1.95it/s]\n",
      "100%|██████████| 147/147 [01:52<00:00,  1.31it/s]\n",
      "100%|██████████| 147/147 [01:14<00:00,  1.97it/s]\n",
      "100%|██████████| 147/147 [01:53<00:00,  1.30it/s]\n",
      "100%|██████████| 147/147 [01:14<00:00,  1.97it/s]\n",
      "100%|██████████| 147/147 [01:52<00:00,  1.31it/s]\n",
      "100%|██████████| 147/147 [01:15<00:00,  1.96it/s]\n",
      "100%|██████████| 147/147 [01:52<00:00,  1.31it/s]\n",
      "100%|██████████| 147/147 [01:15<00:00,  1.95it/s]\n",
      "100%|██████████| 147/147 [01:53<00:00,  1.30it/s]\n",
      "100%|██████████| 147/147 [01:15<00:00,  1.95it/s]\n",
      "100%|██████████| 147/147 [01:52<00:00,  1.31it/s]\n",
      "100%|██████████| 147/147 [01:15<00:00,  1.96it/s]\n",
      "100%|██████████| 147/147 [01:52<00:00,  1.31it/s]\n",
      "100%|██████████| 147/147 [01:15<00:00,  1.94it/s]\n"
     ]
    },
    {
     "name": "stdout",
     "output_type": "stream",
     "text": [
      "epoch(50) train_loss: 0.056724805384874344 val_loss: 0.05730310454964638\n"
     ]
    }
   ],
   "source": [
    "BOUNDARY_LOSS = True\n",
    "BOUNDARY_SIZE = 2\n",
    "np.random.seed(0)\n",
    "device = torch.device(\"cuda:0\" if torch.cuda.is_available() else \"cpu\")\n",
    "t_dataset, t_dataloader, v_dataset, v_dataloader = Task.get_dataset_and_loader(10)\n",
    "model = Task.get_model()\n",
    "\n",
    "train_val(model, t_dataloader, v_dataloader, epoch=50, device = device, \n",
    "    val_frequence = 1, print_frequency = 10, step_save_frequency = 10, save_dir = \"result/boundary_loss(size=2)\")\n"
   ]
  },
  {
   "cell_type": "code",
   "execution_count": 6,
   "id": "30b63fe2",
   "metadata": {},
   "outputs": [
    {
     "name": "stderr",
     "output_type": "stream",
     "text": [
      "100%|██████████| 147/147 [01:49<00:00,  1.34it/s]\n",
      "100%|██████████| 147/147 [01:12<00:00,  2.03it/s]\n",
      "100%|██████████| 147/147 [01:50<00:00,  1.33it/s]\n",
      "100%|██████████| 147/147 [01:13<00:00,  2.00it/s]\n",
      "100%|██████████| 147/147 [01:50<00:00,  1.33it/s]\n",
      "100%|██████████| 147/147 [01:13<00:00,  2.01it/s]\n",
      "100%|██████████| 147/147 [01:51<00:00,  1.32it/s]\n",
      "100%|██████████| 147/147 [01:13<00:00,  2.00it/s]\n",
      "100%|██████████| 147/147 [01:51<00:00,  1.32it/s]\n",
      "100%|██████████| 147/147 [01:13<00:00,  2.00it/s]\n",
      "100%|██████████| 147/147 [01:51<00:00,  1.32it/s]\n",
      "100%|██████████| 147/147 [01:14<00:00,  1.97it/s]\n",
      "100%|██████████| 147/147 [01:49<00:00,  1.34it/s]\n",
      "100%|██████████| 147/147 [01:14<00:00,  1.98it/s]\n",
      "100%|██████████| 147/147 [01:51<00:00,  1.32it/s]\n",
      "100%|██████████| 147/147 [01:15<00:00,  1.95it/s]\n",
      "100%|██████████| 147/147 [01:51<00:00,  1.32it/s]\n",
      "100%|██████████| 147/147 [01:14<00:00,  1.97it/s]\n",
      "100%|██████████| 147/147 [01:50<00:00,  1.33it/s]\n",
      "100%|██████████| 147/147 [01:14<00:00,  1.98it/s]\n",
      "  0%|          | 0/147 [00:00<?, ?it/s]"
     ]
    },
    {
     "name": "stdout",
     "output_type": "stream",
     "text": [
      "epoch(10) train_loss: 0.11076542735099792 val_loss: 0.1166163757443428\n"
     ]
    },
    {
     "name": "stderr",
     "output_type": "stream",
     "text": [
      "100%|██████████| 147/147 [01:51<00:00,  1.32it/s]\n",
      "100%|██████████| 147/147 [01:13<00:00,  2.01it/s]\n",
      "100%|██████████| 147/147 [01:51<00:00,  1.32it/s]\n",
      "100%|██████████| 147/147 [01:14<00:00,  1.97it/s]\n",
      "100%|██████████| 147/147 [01:52<00:00,  1.31it/s]\n",
      "100%|██████████| 147/147 [01:13<00:00,  2.00it/s]\n",
      "100%|██████████| 147/147 [01:52<00:00,  1.31it/s]\n",
      "100%|██████████| 147/147 [01:13<00:00,  1.99it/s]\n",
      "100%|██████████| 147/147 [01:50<00:00,  1.33it/s]\n",
      "100%|██████████| 147/147 [01:14<00:00,  1.97it/s]\n",
      "100%|██████████| 147/147 [01:49<00:00,  1.34it/s]\n",
      "100%|██████████| 147/147 [01:14<00:00,  1.98it/s]\n",
      "100%|██████████| 147/147 [01:51<00:00,  1.32it/s]\n",
      "100%|██████████| 147/147 [01:14<00:00,  1.98it/s]\n",
      "100%|██████████| 147/147 [01:50<00:00,  1.33it/s]\n",
      "100%|██████████| 147/147 [01:15<00:00,  1.96it/s]\n",
      "100%|██████████| 147/147 [01:52<00:00,  1.31it/s]\n",
      "100%|██████████| 147/147 [01:18<00:00,  1.87it/s]\n",
      "100%|██████████| 147/147 [01:54<00:00,  1.28it/s]\n",
      "100%|██████████| 147/147 [01:16<00:00,  1.91it/s]\n",
      "  0%|          | 0/147 [00:00<?, ?it/s]"
     ]
    },
    {
     "name": "stdout",
     "output_type": "stream",
     "text": [
      "epoch(20) train_loss: 0.08734365552663803 val_loss: 0.09161048382520676\n"
     ]
    },
    {
     "name": "stderr",
     "output_type": "stream",
     "text": [
      "100%|██████████| 147/147 [01:54<00:00,  1.28it/s]\n",
      "100%|██████████| 147/147 [01:14<00:00,  1.97it/s]\n",
      "100%|██████████| 147/147 [01:51<00:00,  1.32it/s]\n",
      "100%|██████████| 147/147 [01:14<00:00,  1.98it/s]\n",
      "100%|██████████| 147/147 [01:51<00:00,  1.32it/s]\n",
      "100%|██████████| 147/147 [01:14<00:00,  1.97it/s]\n",
      "100%|██████████| 147/147 [01:51<00:00,  1.32it/s]\n",
      "100%|██████████| 147/147 [01:13<00:00,  1.99it/s]\n",
      "100%|██████████| 147/147 [01:51<00:00,  1.32it/s]\n",
      "100%|██████████| 147/147 [01:14<00:00,  1.98it/s]\n",
      "100%|██████████| 147/147 [01:50<00:00,  1.33it/s]\n",
      "100%|██████████| 147/147 [01:14<00:00,  1.98it/s]\n",
      "100%|██████████| 147/147 [01:50<00:00,  1.33it/s]\n",
      "100%|██████████| 147/147 [01:14<00:00,  1.98it/s]\n",
      "100%|██████████| 147/147 [01:51<00:00,  1.32it/s]\n",
      "100%|██████████| 147/147 [01:15<00:00,  1.96it/s]\n",
      "100%|██████████| 147/147 [01:51<00:00,  1.32it/s]\n",
      "100%|██████████| 147/147 [01:14<00:00,  1.97it/s]\n",
      "100%|██████████| 147/147 [01:51<00:00,  1.32it/s]\n",
      "100%|██████████| 147/147 [01:13<00:00,  1.99it/s]\n"
     ]
    },
    {
     "name": "stdout",
     "output_type": "stream",
     "text": [
      "epoch(30) train_loss: 0.07964629679918289 val_loss: 0.08195424824953079\n"
     ]
    },
    {
     "name": "stderr",
     "output_type": "stream",
     "text": [
      "100%|██████████| 147/147 [01:51<00:00,  1.32it/s]\n",
      "100%|██████████| 147/147 [01:14<00:00,  1.97it/s]\n",
      "100%|██████████| 147/147 [01:52<00:00,  1.31it/s]\n",
      "100%|██████████| 147/147 [01:14<00:00,  1.98it/s]\n",
      "100%|██████████| 147/147 [01:51<00:00,  1.31it/s]\n",
      "100%|██████████| 147/147 [01:14<00:00,  1.98it/s]\n",
      "100%|██████████| 147/147 [01:51<00:00,  1.32it/s]\n",
      "100%|██████████| 147/147 [01:14<00:00,  1.98it/s]\n",
      "100%|██████████| 147/147 [01:50<00:00,  1.33it/s]\n",
      "100%|██████████| 147/147 [01:14<00:00,  1.98it/s]\n",
      "100%|██████████| 147/147 [01:51<00:00,  1.32it/s]\n",
      "100%|██████████| 147/147 [01:14<00:00,  1.97it/s]\n",
      "100%|██████████| 147/147 [01:50<00:00,  1.33it/s]\n",
      "100%|██████████| 147/147 [01:13<00:00,  2.00it/s]\n",
      "100%|██████████| 147/147 [01:50<00:00,  1.32it/s]\n",
      "100%|██████████| 147/147 [01:13<00:00,  1.99it/s]\n",
      "100%|██████████| 147/147 [01:51<00:00,  1.32it/s]\n",
      "100%|██████████| 147/147 [01:14<00:00,  1.98it/s]\n",
      "100%|██████████| 147/147 [01:51<00:00,  1.32it/s]\n",
      "100%|██████████| 147/147 [01:14<00:00,  1.98it/s]\n",
      "  0%|          | 0/147 [00:00<?, ?it/s]"
     ]
    },
    {
     "name": "stdout",
     "output_type": "stream",
     "text": [
      "epoch(40) train_loss: 0.07627782970666885 val_loss: 0.07702791690826416\n"
     ]
    },
    {
     "name": "stderr",
     "output_type": "stream",
     "text": [
      "100%|██████████| 147/147 [01:51<00:00,  1.32it/s]\n",
      "100%|██████████| 147/147 [01:14<00:00,  1.96it/s]\n",
      "100%|██████████| 147/147 [01:50<00:00,  1.32it/s]\n",
      "100%|██████████| 147/147 [01:14<00:00,  1.98it/s]\n",
      "100%|██████████| 147/147 [01:50<00:00,  1.33it/s]\n",
      "100%|██████████| 147/147 [01:13<00:00,  1.99it/s]\n",
      "100%|██████████| 147/147 [01:51<00:00,  1.32it/s]\n",
      "100%|██████████| 147/147 [01:14<00:00,  1.98it/s]\n",
      "100%|██████████| 147/147 [01:51<00:00,  1.32it/s]\n",
      "100%|██████████| 147/147 [01:13<00:00,  1.99it/s]\n",
      "100%|██████████| 147/147 [01:51<00:00,  1.31it/s]\n",
      "100%|██████████| 147/147 [01:14<00:00,  1.97it/s]\n",
      "100%|██████████| 147/147 [01:52<00:00,  1.31it/s]\n",
      "100%|██████████| 147/147 [01:14<00:00,  1.99it/s]\n",
      "100%|██████████| 147/147 [01:51<00:00,  1.32it/s]\n",
      "100%|██████████| 147/147 [01:13<00:00,  2.00it/s]\n",
      "100%|██████████| 147/147 [01:50<00:00,  1.33it/s]\n",
      "100%|██████████| 147/147 [01:14<00:00,  1.98it/s]\n",
      "100%|██████████| 147/147 [01:50<00:00,  1.33it/s]\n",
      "100%|██████████| 147/147 [01:13<00:00,  1.99it/s]\n"
     ]
    },
    {
     "name": "stdout",
     "output_type": "stream",
     "text": [
      "epoch(50) train_loss: 0.07457830011844635 val_loss: 0.07512140274047852\n"
     ]
    }
   ],
   "source": [
    "BOUNDARY_LOSS = True\n",
    "BOUNDARY_SIZE = 3\n",
    "np.random.seed(0)\n",
    "device = torch.device(\"cuda:0\" if torch.cuda.is_available() else \"cpu\")\n",
    "t_dataset, t_dataloader, v_dataset, v_dataloader = Task.get_dataset_and_loader(10)\n",
    "model = Task.get_model()\n",
    "\n",
    "train_val(model, t_dataloader, v_dataloader, epoch=50, device = device, \n",
    "    val_frequence = 1, print_frequency = 10, step_save_frequency = 10, save_dir = \"result/boundary_loss(size=3)\")\n"
   ]
  },
  {
   "cell_type": "code",
   "execution_count": null,
   "id": "7de2e4ae",
   "metadata": {},
   "outputs": [],
   "source": []
  }
 ],
 "metadata": {
  "kernelspec": {
   "display_name": "Python 3 (ipykernel)",
   "language": "python",
   "name": "python3"
  },
  "language_info": {
   "codemirror_mode": {
    "name": "ipython",
    "version": 3
   },
   "file_extension": ".py",
   "mimetype": "text/x-python",
   "name": "python",
   "nbconvert_exporter": "python",
   "pygments_lexer": "ipython3",
   "version": "3.7.16"
  }
 },
 "nbformat": 4,
 "nbformat_minor": 5
}
