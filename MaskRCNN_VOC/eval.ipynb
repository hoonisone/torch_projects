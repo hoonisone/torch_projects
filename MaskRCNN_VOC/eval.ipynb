{
 "cells": [
  {
   "attachments": {},
   "cell_type": "markdown",
   "id": "a32a6c18",
   "metadata": {},
   "source": [
    "# Impoart"
   ]
  },
  {
   "cell_type": "code",
   "execution_count": 1,
   "id": "1b6b9188",
   "metadata": {},
   "outputs": [
    {
     "name": "stdout",
     "output_type": "stream",
     "text": [
      "importing Jupyter notebook from MaskRCNN_VOC.ipynb\n",
      "importing Jupyter notebook from mh_utils.ipynb\n"
     ]
    },
    {
     "name": "stderr",
     "output_type": "stream",
     "text": [
      "/opt/conda/lib/python3.8/site-packages/nbformat/__init__.py:93: MissingIDFieldWarning: Code cell is missing an id field, this will become a hard error in future nbformat versions. You may want to use `normalize()` on your notebooks before validations (available since nbformat 5.1.4). Previous versions of nbformat are fixing this issue transparently, and will stop doing so in the future.\n",
      "  validate(nb)\n"
     ]
    }
   ],
   "source": [
    "import import_ipynb\n",
    "import torch\n",
    "import torchvision\n",
    "import matplotlib.pyplot as plt\n",
    "import numpy as np\n",
    "\n",
    "import bbox_visualizer as bbv\n",
    "\n",
    "from MaskRCNN_VOC import *\n",
    "\n",
    "\n",
    "import mh_utils as MH\n",
    "\n",
    "from MaskRCNN_VOC import VOC2012_MaskRCNN_InstanceSegmentation as Task\n",
    "from MaskRCNN_VOC import VOC2012_MaskRCNN_InstanceSegmentation_Dataset as TaskDataset\n",
    "from MaskRCNN_VOC import VOC2012_MaskRCNN_InstanceSegmentation_DataLoader as TaskDataloader\n"
   ]
  },
  {
   "cell_type": "code",
   "execution_count": 2,
   "id": "6ec2cd70",
   "metadata": {},
   "outputs": [],
   "source": []
  },
  {
   "cell_type": "code",
   "execution_count": 3,
   "id": "0427a316",
   "metadata": {},
   "outputs": [],
   "source": [
    "np.random.seed(0)\n",
    "device = torch.device(\"cuda:0\" if torch.cuda.is_available() else \"cpu\")\n",
    "t_dataset, t_dataloader, v_dataset, v_dataloader = Task.get_dataset_and_loader(10)\n",
    "model = Task.get_model(\"result/banch\")\n",
    "\n",
    "for iou_threshold in [0.3, 0.5, 0.6]\n",
    "    map = Task.map_eval(model, device, data_loader, iou_threshold = iou_threshold)\n",
    "    print(f\"map({iou_threshold}): {map}\")\n"
   ]
  },
  {
   "cell_type": "code",
   "execution_count": null,
   "id": "cd27e711",
   "metadata": {},
   "outputs": [],
   "source": []
  },
  {
   "cell_type": "code",
   "execution_count": 4,
   "id": "ebf689e1",
   "metadata": {},
   "outputs": [
    {
     "name": "stderr",
     "output_type": "stream",
     "text": [
      "/opt/conda/lib/python3.8/site-packages/torchvision/models/_utils.py:208: UserWarning: The parameter 'pretrained' is deprecated since 0.13 and may be removed in the future, please use 'weights' instead.\n",
      "  warnings.warn(\n",
      "/opt/conda/lib/python3.8/site-packages/torchvision/models/_utils.py:223: UserWarning: Arguments other than a weight enum or `None` for 'weights' are deprecated since 0.13 and may be removed in the future. The current behavior is equivalent to passing `weights=MaskRCNN_ResNet50_FPN_V2_Weights.COCO_V1`. You can also use `weights=MaskRCNN_ResNet50_FPN_V2_Weights.DEFAULT` to get the most up-to-date weights.\n",
      "  warnings.warn(msg)\n",
      "100%|██████████| 145/145 [00:51<00:00,  2.84it/s]\n"
     ]
    },
    {
     "data": {
      "text/plain": [
       "0.31593098542893056"
      ]
     },
     "execution_count": 4,
     "metadata": {},
     "output_type": "execute_result"
    }
   ],
   "source": [
    "IOU_THRESHOLD = 0.5\n",
    "\n",
    "device = torch.device(\"cuda:0\" if torch.cuda.is_available() else \"cpu\")\n",
    "\n",
    "dataset = TaskDataset(root = \"/home/VOCdevkit/VOC2012\", image_set = \"val\", cropping = False)\n",
    "data_loader = TaskDataloader(dataset, batch_size = 10)\n",
    "\n",
    "model = Task.get_model(\"models/no_expending(8)\")\n",
    "\n",
    "\n"
   ]
  },
  {
   "cell_type": "code",
   "execution_count": null,
   "id": "f6383635",
   "metadata": {},
   "outputs": [
    {
     "name": "stderr",
     "output_type": "stream",
     "text": [
      "100%|██████████| 145/145 [00:47<00:00,  3.06it/s]\n"
     ]
    },
    {
     "data": {
      "text/plain": [
       "0.35887285647100803"
      ]
     },
     "execution_count": 6,
     "metadata": {},
     "output_type": "execute_result"
    }
   ],
   "source": []
  },
  {
   "cell_type": "code",
   "execution_count": 5,
   "id": "21aeb58d",
   "metadata": {},
   "outputs": [
    {
     "name": "stderr",
     "output_type": "stream",
     "text": [
      "100%|██████████| 145/145 [00:47<00:00,  3.03it/s]\n"
     ]
    },
    {
     "data": {
      "text/plain": [
       "0.35565320588827226"
      ]
     },
     "execution_count": 5,
     "metadata": {},
     "output_type": "execute_result"
    }
   ],
   "source": [
    "model = Task.get_model()\n",
    "model.load_state_dict(torch.load(\"models/boundary_reinforcement(2th)\"))\n",
    "\n",
    "CLASS_NUM = Task.CLASS_NUM\n",
    "MASK_THRESHOLD = 0.5\n",
    "SCORE_THRESHOLDS = Task.SCORE_THRESHOLDS\n",
    "\n",
    "Task.map_eval(model, device, data_loader, \n",
    "    class_num = CLASS_NUM, \n",
    "    mask_threshold = MASK_THRESHOLD,\n",
    "    score_threshold = SCORE_THRESHOLDS)"
   ]
  },
  {
   "cell_type": "code",
   "execution_count": null,
   "id": "3ef45001",
   "metadata": {},
   "outputs": [],
   "source": []
  }
 ],
 "metadata": {
  "kernelspec": {
   "display_name": "Python 3 (ipykernel)",
   "language": "python",
   "name": "python3"
  },
  "language_info": {
   "codemirror_mode": {
    "name": "ipython",
    "version": 3
   },
   "file_extension": ".py",
   "mimetype": "text/x-python",
   "name": "python",
   "nbconvert_exporter": "python",
   "pygments_lexer": "ipython3",
   "version": "3.8.3"
  }
 },
 "nbformat": 4,
 "nbformat_minor": 5
}
