{
 "cells": [
  {
   "cell_type": "markdown",
   "id": "a32a6c18",
   "metadata": {},
   "source": [
    "# Impoart"
   ]
  },
  {
   "cell_type": "code",
   "execution_count": 9,
   "id": "13c87413",
   "metadata": {},
   "outputs": [
    {
     "name": "stdout",
     "output_type": "stream",
     "text": [
      "importing Jupyter notebook from MaskRCNN_VOC.ipynb\n"
     ]
    }
   ],
   "source": [
    "import import_ipynb\n",
    "import MaskRCNN_VOC as mrv\n",
    "import torch\n",
    "import torchvision\n",
    "import matplotlib.pyplot as plt\n",
    "import numpy as np\n",
    "\n",
    "import bbox_visualizer as bbv"
   ]
  },
  {
   "cell_type": "markdown",
   "id": "ac8624aa",
   "metadata": {},
   "source": [
    "# Device"
   ]
  },
  {
   "cell_type": "code",
   "execution_count": 10,
   "id": "6ec2cd70",
   "metadata": {},
   "outputs": [],
   "source": [
    "device = torch.device(\"cuda:0\" if torch.cuda.is_available() else \"cpu\")\n",
    "device\n",
    "device = \"cpu\""
   ]
  },
  {
   "cell_type": "markdown",
   "id": "068aec79",
   "metadata": {},
   "source": [
    "# Dataset (Pascal VOC 2012)"
   ]
  },
  {
   "cell_type": "code",
   "execution_count": 12,
   "id": "0427a316",
   "metadata": {},
   "outputs": [],
   "source": [
    "transforms = torchvision.transforms.Compose([\n",
    "    torchvision.transforms.ToTensor(),\n",
    "#     torchvision.transforms.Resize([100, 100])\n",
    "    \n",
    "])\n",
    "target_transforms = torchvision.transforms.Compose([\n",
    "])\n",
    "\n",
    "dataset = mrv.VOC_Dataset(root = \"/home\", image_set = \"val\")\n",
    "data_loader = mrv.VOC_Dataloader(dataset, batch_size = 1)"
   ]
  },
  {
   "cell_type": "markdown",
   "id": "50177d1b",
   "metadata": {},
   "source": [
    "# Model"
   ]
  },
  {
   "cell_type": "code",
   "execution_count": 13,
   "id": "e2dbc578",
   "metadata": {},
   "outputs": [
    {
     "name": "stderr",
     "output_type": "stream",
     "text": [
      "/opt/conda/lib/python3.8/site-packages/torchvision/models/_utils.py:208: UserWarning: The parameter 'pretrained' is deprecated since 0.13 and may be removed in the future, please use 'weights' instead.\n",
      "  warnings.warn(\n",
      "/opt/conda/lib/python3.8/site-packages/torchvision/models/_utils.py:223: UserWarning: Arguments other than a weight enum or `None` for 'weights' are deprecated since 0.13 and may be removed in the future. The current behavior is equivalent to passing `weights=MaskRCNN_ResNet50_FPN_V2_Weights.COCO_V1`. You can also use `weights=MaskRCNN_ResNet50_FPN_V2_Weights.DEFAULT` to get the most up-to-date weights.\n",
      "  warnings.warn(msg)\n"
     ]
    },
    {
     "data": {
      "text/plain": [
       "<All keys matched successfully>"
      ]
     },
     "execution_count": 13,
     "metadata": {},
     "output_type": "execute_result"
    }
   ],
   "source": [
    "# model = torchvision.models.detection.maskrcnn_resnet50_fpn(pretrained=True)\n",
    "model = torchvision.models.detection.maskrcnn_resnet50_fpn_v2(pretrained=True)\n",
    "model.roi_heads.box_predictor.cls_score = torch.nn.Linear(in_features=1024, out_features=21, bias=True)\n",
    "model.roi_heads.box_predictor.bbox_pred = torch.nn.Linear(in_features=1024, out_features=84, bias=True)\n",
    "model.roi_heads.mask_predictor.mask_fcn_logits = torch.nn.Conv2d(256, 21, kernel_size=(1, 1), stride=(1, 1))\n",
    "model.to(device)\n",
    "model.load_state_dict(torch.load(\"my_trained_model\"))"
   ]
  },
  {
   "cell_type": "markdown",
   "id": "7b50923c",
   "metadata": {},
   "source": [
    "# Eval"
   ]
  },
  {
   "cell_type": "code",
   "execution_count": 14,
   "id": "ce6d8a08",
   "metadata": {},
   "outputs": [],
   "source": [
    "model.eval()\n",
    "images, targets = next(iter(data_loader))\n",
    "images = list(image.to(device) for image in images)\n",
    "targets = [{k: v.to(device) for k, v in t.items()} for t in targets]\n",
    "results = model(images, targets)"
   ]
  },
  {
   "cell_type": "markdown",
   "id": "74e4001a",
   "metadata": {},
   "source": [
    "# Result"
   ]
  },
  {
   "cell_type": "code",
   "execution_count": 15,
   "id": "3462b7c5",
   "metadata": {},
   "outputs": [],
   "source": [
    "def to_numpy(x):\n",
    "    return np.array(x.to(\"cpu\").detach())\n",
    "\n",
    "def binary_masks_to_label_mask(masks, labels):\n",
    "    \"\"\"\n",
    "        masks: N개의 binary mask [Numpy (N x W x H)]\n",
    "    \"\"\"\n",
    "    \n",
    "    return (masks * labels[:, None, None]).max(0)\n",
    "\n",
    "def mask_iou(\n",
    "    mask1: torch.Tensor,\n",
    "    mask2: torch.Tensor,\n",
    ") -> torch.Tensor:\n",
    "    \"\"\"\n",
    "    Inputs:\n",
    "        mask1: NxHxW torch.float32. Consists of [0, 1]\n",
    "        mask2: MxHxW torch.float32. Consists of [0, 1]\n",
    "    Outputs:\n",
    "        ret: NxM torch.float32. Consists of [0 - 1]\n",
    "        \n",
    "        N개의 mask와 M개의 mask의 모든 pair에 대한 iou를 NxM matrix로 반환한다.\n",
    "    \"\"\"\n",
    "\n",
    "    N, H, W = mask1.shape\n",
    "    M, H, W = mask2.shape\n",
    "\n",
    "    mask1 = mask1.view(N, H*W)\n",
    "    mask2 = mask2.view(M, H*W)\n",
    "    \n",
    "    intersection = torch.matmul(mask1, mask2.t())\n",
    "    \n",
    "    print(intersection)\n",
    "    area1 = mask1.sum(dim=1).view(1, -1)\n",
    "    \n",
    "    area2 = mask2.sum(dim=1).view(1, -1)\n",
    "    \n",
    "    union = (area1.t() + area2) - intersection\n",
    "    \n",
    "    ret = torch.where(\n",
    "        union == 0,\n",
    "        torch.tensor(0., device=mask1.device),\n",
    "        intersection / union,\n",
    "    )\n",
    "\n",
    "    return ret"
   ]
  },
  {
   "cell_type": "code",
   "execution_count": 34,
   "id": "508e51a1",
   "metadata": {},
   "outputs": [
    {
     "name": "stdout",
     "output_type": "stream",
     "text": [
      "tensor([[25166, 25166, 25166],\n",
      "        [  233,   233,   233],\n",
      "        [  616,   616,   616],\n",
      "        [    0,     0,     0],\n",
      "        [    0,     0,     0],\n",
      "        [    0,     0,     0]], dtype=torch.int32)\n"
     ]
    },
    {
     "data": {
      "image/png": "[encoded data removed]",
      "text/plain": [
       "<Figure size 640x480 with 3 Axes>"
      ]
     },
     "metadata": {},
     "output_type": "display_data"
    }
   ],
   "source": [
    "def show(image, sp_label_mask, gt_label_mask):\n",
    "    fig = plt.figure()\n",
    "\n",
    "    titles = [\"Image\",\"Predicted\", \"GT\"]\n",
    "    images = [image, sp_label_mask[:, :, None], gt_label_mask[:, :, None]]\n",
    "\n",
    "    for i in range(3):\n",
    "        sub = fig.add_subplot(1, 3, i+1)\n",
    "        sub.set_title(titles[i])\n",
    "        sub.imshow(images[i])\n",
    "def analyze(image, target, result):\n",
    "    image = to_numpy(image).transpose((1, 2, 0))\n",
    "    # Sample GT\n",
    "    gt_boxes  = to_numpy(target[\"boxes\"])      # Numpy (N x 4)\n",
    "    gt_labels = to_numpy(target[\"labels\"])     # Numpy (N x 1)\n",
    "    gt_masks  = to_numpy(target[\"masks\"])      # Numpy (N x W x H)\n",
    "\n",
    "    gt_label_mask = binary_masks_to_label_mask(gt_masks, gt_labels)\n",
    "\n",
    "    # Sample Result (predicted)\n",
    "    p_scores = to_numpy(result[\"scores\"])           # Numpy (N' x 1)\n",
    "    p_labels = to_numpy(result[\"labels\"])           # Numpy (N' x 1)\n",
    "    p_boxes = to_numpy(result[\"boxes\"])             # Numpy (N' x 4)\n",
    "    p_masks = to_numpy(result[\"masks\"]).squeeze(1)>0.5  # Numpy (N' x W x H)\n",
    "\n",
    "    p_label_mask = binary_masks_to_label_mask(p_masks, p_labels)\n",
    "\n",
    "    selected_idxes = torchvision.ops.nms(torch.tensor(p_boxes, dtype = torch.float), torch.tensor(p_scores, dtype = torch.float), 0.3)\n",
    "#     selected_idxes = selected_idxes[2:3]\n",
    "    sp_scores = np.array([p_scores[i] for i in selected_idxes])\n",
    "    sp_labels = np.array([p_labels[i] for i in selected_idxes])\n",
    "    sp_boxes = np.array([p_boxes[i] for i in selected_idxes])\n",
    "    sp_masks = np.array([p_masks[i] for i in selected_idxes])\n",
    "\n",
    "    sp_label_mask = binary_masks_to_label_mask(sp_masks, sp_labels)\n",
    "    \n",
    "    iou_matrix = mask_iou(torch.tensor(p_masks, dtype = torch.int32), torch.tensor(gt_masks, dtype = torch.int32))\n",
    "    show(image, sp_label_mask, gt_label_mask)\n",
    "#     is_true(p_masks, p_labels, p_scores, gt_masks, gt_labels, class_num = 21)\n",
    "    \n",
    "analyze(images[0], targets[0], results[0])"
   ]
  },
  {
   "cell_type": "code",
   "execution_count": 188,
   "id": "f0a9585c",
   "metadata": {},
   "outputs": [
    {
     "data": {
      "text/plain": [
       "array([], dtype=int64)"
      ]
     },
     "execution_count": 188,
     "metadata": {},
     "output_type": "execute_result"
    }
   ],
   "source": [
    "[bool]*10\n",
    "\n",
    "np.array([1, 2, 3])[np.where(np.array([1, 2, 3]) == 4)]"
   ]
  },
  {
   "cell_type": "code",
   "execution_count": 21,
   "id": "d8010837",
   "metadata": {},
   "outputs": [
    {
     "ename": "SyntaxError",
     "evalue": "invalid syntax (2129818501.py, line 16)",
     "output_type": "error",
     "traceback": [
      "\u001b[0;36m  Cell \u001b[0;32mIn[21], line 16\u001b[0;36m\u001b[0m\n\u001b[0;31m    for\u001b[0m\n\u001b[0m        ^\u001b[0m\n\u001b[0;31mSyntaxError\u001b[0m\u001b[0;31m:\u001b[0m invalid syntax\n"
     ]
    }
   ],
   "source": [
    "def is_true(p_masks, p_labels, gt_masks, gt_labels, iou_treshold):\n",
    "    label_chech = (p_labels == gt_labels)\n",
    "    iou_matrix = iou(p_masks, gt_masks)\n",
    "    \n",
    "    \n",
    "    # gt가 이미 이전 prediction에 의해 탐색 되었는가?\n",
    "    gt_check = [False]*len(gt_labels)\n",
    "    \n",
    "    for i, (p_mask, p_label) in enumerate(zip(p_masks, p_lables)):\n",
    "        iou_list = iou_matrix[i]\n",
    "        \n",
    "        np.where(gt_labels == p_label)\n",
    "        gt_labels\n",
    "    # 각 prediction마다\n",
    "    iou_matrix.argmax(1, )\n",
    "    for \n",
    "    label_check iou_treshold\n",
    "    return  and label_check & iou_check\n",
    "def get_ap(p_masks, p_labels, p_scores, gt_masks, gt_labels, class_num):\n",
    "    \n",
    "    ground_truth_num = np.zeros(class_num)\n",
    "    true_positive_num = np.zeros(class_num)\n",
    "    prediction_num = np.zeros(class_num)\n",
    "    \n",
    "    # score가 높은 순으로 정렬\n",
    "    descending_sorting_indices = p_scores.argsort()[::-1]\n",
    "    \n",
    "    p_scores = p_scores[descending_sorting_indices]\n",
    "    p_labels = p_labels[descending_sorting_indices]\n",
    "    p_masks = p_masks[descending_sorting_indices]\n",
    "    \n",
    "    # class 별 gt count\n",
    "    for gt_label in gt_labels:\n",
    "        ground_truth_num[gt_label] += 1\n",
    "        \n",
    "    # 판별 TP\n",
    "    for i, (score, mask,label) in enumerate(zip(p_scores, p_labels, p_masks)):\n",
    "        prediction_num\n"
   ]
  },
  {
   "cell_type": "code",
   "execution_count": 39,
   "id": "c962fd33",
   "metadata": {},
   "outputs": [],
   "source": [
    "def mAP(p_masks, p_labels, p_scores, gt_masks, gt_labels):\n",
    "    (p_masks == gt_masks) and ()\n",
    "    for gt_mask in gt_masks:\n",
    "        "
   ]
  },
  {
   "cell_type": "code",
   "execution_count": 28,
   "id": "4c7038e1",
   "metadata": {},
   "outputs": [],
   "source": []
  },
  {
   "cell_type": "code",
   "execution_count": null,
   "id": "66968274",
   "metadata": {},
   "outputs": [],
   "source": []
  },
  {
   "cell_type": "code",
   "execution_count": 15,
   "id": "83885a60",
   "metadata": {},
   "outputs": [
    {
     "data": {
      "text/plain": [
       "array([20,  9])"
      ]
     },
     "execution_count": 15,
     "metadata": {},
     "output_type": "execute_result"
    }
   ],
   "source": [
    "gt_labels"
   ]
  },
  {
   "cell_type": "code",
   "execution_count": null,
   "id": "a6eca627",
   "metadata": {},
   "outputs": [],
   "source": [
    "target[\"masks\"].shape\n",
    "p_scores"
   ]
  },
  {
   "cell_type": "code",
   "execution_count": 45,
   "id": "6c6a3e73",
   "metadata": {},
   "outputs": [
    {
     "data": {
      "text/plain": [
       "0.6666666666666666"
      ]
     },
     "execution_count": 45,
     "metadata": {},
     "output_type": "execute_result"
    }
   ],
   "source": [
    "a = np.array([[1, 0], [1, 1]])\n",
    "b = np.array([[1, 0], [1, 0]])\n",
    "IoU(a, b)"
   ]
  },
  {
   "cell_type": "code",
   "execution_count": 44,
   "id": "c056b899",
   "metadata": {},
   "outputs": [
    {
     "ename": "NameError",
     "evalue": "name 'p_mask' is not defined",
     "output_type": "error",
     "traceback": [
      "\u001b[0;31m---------------------------------------------------------------------------\u001b[0m",
      "\u001b[0;31mNameError\u001b[0m                                 Traceback (most recent call last)",
      "Cell \u001b[0;32mIn[44], line 44\u001b[0m\n\u001b[1;32m     41\u001b[0m threshold_list \u001b[38;5;241m=\u001b[39m [\u001b[38;5;241m0.1\u001b[39m \u001b[38;5;241m*\u001b[39m x \u001b[38;5;28;01mfor\u001b[39;00m x \u001b[38;5;129;01min\u001b[39;00m \u001b[38;5;28mrange\u001b[39m(\u001b[38;5;241m1\u001b[39m, \u001b[38;5;241m11\u001b[39m)]\n\u001b[1;32m     42\u001b[0m binary_masks \u001b[38;5;241m=\u001b[39m extract_mask_with_threshold(p_masks, \u001b[38;5;241m0.5\u001b[39m)\n\u001b[0;32m---> 44\u001b[0m iou \u001b[38;5;241m=\u001b[39m IoU(\u001b[43mp_mask\u001b[49m, gt_mask)\n\u001b[1;32m     46\u001b[0m \u001b[38;5;66m# show_mask_result(p_masks[1], gt_mask)\u001b[39m\n\u001b[1;32m     48\u001b[0m \u001b[38;5;28mprint\u001b[39m(labels)\n",
      "\u001b[0;31mNameError\u001b[0m: name 'p_mask' is not defined"
     ]
    }
   ],
   "source": [
    "\n",
    "    \n",
    "def IoU(mask1, mask2):\n",
    "    \"\"\"\n",
    "    \"\"\"\n",
    "    mask1 = mask1.astype(bool)\n",
    "    mask2 = mask2.astype(bool)\n",
    "    intersection = mask1 * mask2\n",
    "    union = mask1 | mask2\n",
    "\n",
    "    i_unique = np.unique(intersection, return_counts = True)\n",
    "    u_unique = np.unique(union, return_counts = True)\n",
    "    \n",
    "    i_c = i_unique[1][1] if True in i_unique[0] else 0 # intersection count\n",
    "    u_c = u_unique[1][1] if True in u_unique[0] else 0 # union count\n",
    "    \n",
    "    return i_c/u_c\n",
    "\n",
    "def show_mask_result(pre, gt):\n",
    "    fig = plt.figure()\n",
    "    sub1 = fig.add_subplot(1, 2, 1)\n",
    "    sub1.imshow(pre)\n",
    "    sub1.set_title(\"Predicted Mask\")\n",
    "    \n",
    "    sub2 = fig.add_subplot(1, 2, 2)\n",
    "    sub2.imshow(gt)\n",
    "    sub2.set_title(\"GT Mask\")\n",
    "    \n",
    "def extract_mask_with_threshold(mask, threshold):\n",
    "    return (mask>threshold).astype(np.uint8)\n",
    "\n",
    "# def extract_mask_with_threshold(mask, threshold_list):\n",
    "#     \"\"\"\n",
    "#         mask를 각각의 threshold에 맞게 추출\n",
    "#     \"\"\"\n",
    "#     return \n",
    "#     return [(mask>threshold) for threshold in threshold_list]\n",
    "\n",
    "\n",
    "# instance_idx = 0 # instance index in a result\n",
    "# gt_box, gt_label, gt_mask = gt_boxes[instance_idx], gt_labels[instance_idx], gt_masks[instance_idx]\n",
    "# p_box, p_label, p_mask = sp_boxes[instance_idx], sp_labels[instance_idx], sp_masks[instance_idx]\n",
    "\n",
    "\n",
    "threshold_list = [0.1 * x for x in range(1, 11)]\n",
    "binary_masks = extract_mask_with_threshold(p_masks, 0.5)\n",
    "\n",
    "iou = IoU(p_mask, gt_mask)\n",
    "\n",
    "# show_mask_result(p_masks[1], gt_mask)\n",
    "\n",
    "print(labels)\n",
    "label_mask = binary_masks_to_label_mask(binary_masks, labels)\n",
    "\n",
    "np.unique(binary_masks.shape)"
   ]
  },
  {
   "cell_type": "code",
   "execution_count": null,
   "id": "14560082",
   "metadata": {},
   "outputs": [],
   "source": [
    "gt_masks = [mrv.ImageManager.tensor_to_numpy(mask.unsqueeze(0).detach()) for mask in target[\"masks\"]]\n",
    "len(gt_masks)"
   ]
  },
  {
   "cell_type": "code",
   "execution_count": null,
   "id": "92c8e32c",
   "metadata": {},
   "outputs": [],
   "source": [
    "def show_mask(p_mask):\n",
    "    \"\"\"\n",
    "        p_mask: predicted mask [Tensor (1 x W X H)]\n",
    "        \n",
    "        \n",
    "        show p_mask as image at various threshold\n",
    "    \"\"\"\n",
    "    fig = plt.figure()\n",
    "    threshold_list = [0.1 * x for x in range(1, 11)]\n",
    "    for i, threshold in enumerate(threshold_list):\n",
    "        fig.add_subplot(2, 5, i)\n",
    "        fig.imshow()\n",
    "        fig.set_title(f\"threshold: {threshild}\")\n",
    "        \n",
    "\n"
   ]
  },
  {
   "cell_type": "code",
   "execution_count": null,
   "id": "1648f580",
   "metadata": {},
   "outputs": [],
   "source": [
    "result[idx][\"masks\"].shape\n",
    "masks = (result[idx][\"masks\"]>0.51).type(torch.uint8)\n",
    "labels = result[idx][\"labels\"].reshape((-1, 1, 1, 1))\n",
    "\n",
    "mask_image =(masks *labels).max(0)[0]\n",
    "mask_image = np.array(mask_image.to(\"cpu\")).transpose((1, 2, 0))\n",
    "plt.imshow(mask_image)\n",
    "\n",
    "# (result[0][\"masks\"].max(1)[0]*255).type(torch.uint8)"
   ]
  },
  {
   "cell_type": "code",
   "execution_count": 5,
   "id": "53c8c52f",
   "metadata": {},
   "outputs": [],
   "source": [
    "from torchvision.datasets.voc import *\n",
    "\n",
    "VOCSegmentation._TARGET_DIR = \"SegmentationObject\"\n",
    "d1 = VOCSegmentation(\"/home\", image_set = \"train\")\n"
   ]
  },
  {
   "cell_type": "code",
   "execution_count": 6,
   "id": "64d0cc34",
   "metadata": {},
   "outputs": [],
   "source": [
    "VOCSegmentation._TARGET_DIR = \"SegmentationClass\"\n",
    "d2 = VOCSegmentation(\"/home\", image_set = \"train\")"
   ]
  },
  {
   "cell_type": "code",
   "execution_count": 7,
   "id": "b5ac44f5",
   "metadata": {},
   "outputs": [
    {
     "name": "stdout",
     "output_type": "stream",
     "text": [
      "[  0   1   2   3   4 255]\n"
     ]
    },
    {
     "data": {
      "image/png": "[encoded data removed]",
      "text/plain": [
       "<PIL.PngImagePlugin.PngImageFile image mode=P size=500x281 at 0x7F15C03514C0>"
      ]
     },
     "execution_count": 7,
     "metadata": {},
     "output_type": "execute_result"
    }
   ],
   "source": [
    "print(np.unique(d1[0][1]))\n",
    "d1[0][1]"
   ]
  },
  {
   "cell_type": "code",
   "execution_count": 9,
   "id": "721a227a",
   "metadata": {},
   "outputs": [
    {
     "name": "stdout",
     "output_type": "stream",
     "text": [
      "[  0   1  15 255]\n"
     ]
    },
    {
     "data": {
      "image/png": "[encoded data removed]",
      "text/plain": [
       "<PIL.PngImagePlugin.PngImageFile image mode=P size=500x281 at 0x7F1468138730>"
      ]
     },
     "execution_count": 9,
     "metadata": {},
     "output_type": "execute_result"
    }
   ],
   "source": [
    "print(np.unique(d2[0][1]))\n",
    "d2[0][1]"
   ]
  },
  {
   "cell_type": "code",
   "execution_count": 8,
   "id": "3cb2ec9b",
   "metadata": {},
   "outputs": [
    {
     "name": "stdout",
     "output_type": "stream",
     "text": [
      "(281, 500, 1)\n",
      "(281, 500, 1)\n"
     ]
    },
    {
     "data": {
      "text/plain": [
       "<matplotlib.image.AxesImage at 0x7f14681a18e0>"
      ]
     },
     "execution_count": 8,
     "metadata": {},
     "output_type": "execute_result"
    },
    {
     "data": {
      "image/png": "[encoded data removed]",
      "text/plain": [
       "<Figure size 6000x800 with 4 Axes>"
      ]
     },
     "metadata": {},
     "output_type": "display_data"
    }
   ],
   "source": [
    "image = np.array(d1[0][1])\n",
    "image = image[:,:,None]\n",
    "print(image.shape)\n",
    "print((image == 1).shape)\n",
    "fig = plt.figure(figsize = (60, 8))\n",
    "fig.add_subplot(1, 5, 1).imshow(image * (image == 1))\n",
    "fig.add_subplot(1, 5, 2).imshow(image * (image == 2))\n",
    "fig.add_subplot(1, 5, 3).imshow(image * (image == 3))\n",
    "fig.add_subplot(1, 5, 4).imshow(image * (image == 4))"
   ]
  },
  {
   "cell_type": "code",
   "execution_count": 86,
   "id": "da3e6403",
   "metadata": {},
   "outputs": [
    {
     "data": {
      "text/plain": [
       "<matplotlib.image.AxesImage at 0x7efe91f792b0>"
      ]
     },
     "execution_count": 86,
     "metadata": {},
     "output_type": "execute_result"
    },
    {
     "data": {
      "image/png": "[encoded data removed]",
      "text/plain": [
       "<Figure size 640x480 with 1 Axes>"
      ]
     },
     "metadata": {},
     "output_type": "display_data"
    }
   ],
   "source": [
    "\n",
    "plt.imshow((image & (image == 2))*255)"
   ]
  },
  {
   "cell_type": "code",
   "execution_count": 89,
   "id": "c8798b16",
   "metadata": {},
   "outputs": [
    {
     "data": {
      "text/plain": [
       "array([0, 2], dtype=uint8)"
      ]
     },
     "execution_count": 89,
     "metadata": {},
     "output_type": "execute_result"
    }
   ],
   "source": [
    "\n",
    "np.unique((image * (image == 2)))"
   ]
  },
  {
   "cell_type": "code",
   "execution_count": 88,
   "id": "13148385",
   "metadata": {},
   "outputs": [
    {
     "data": {
      "text/plain": [
       "array([False,  True])"
      ]
     },
     "execution_count": 88,
     "metadata": {},
     "output_type": "execute_result"
    }
   ],
   "source": [
    "np.unique((image == 2))"
   ]
  },
  {
   "cell_type": "code",
   "execution_count": 7,
   "id": "10c21461",
   "metadata": {},
   "outputs": [
    {
     "ename": "IndexError",
     "evalue": "index 3 is out of bounds for axis 0 with size 3",
     "output_type": "error",
     "traceback": [
      "\u001b[0;31m---------------------------------------------------------------------------\u001b[0m",
      "\u001b[0;31mIndexError\u001b[0m                                Traceback (most recent call last)",
      "Cell \u001b[0;32mIn[7], line 2\u001b[0m\n\u001b[1;32m      1\u001b[0m mask \u001b[38;5;241m=\u001b[39m dataset[\u001b[38;5;241m0\u001b[39m][\u001b[38;5;241m1\u001b[39m][\u001b[38;5;124m\"\u001b[39m\u001b[38;5;124mmasks\u001b[39m\u001b[38;5;124m\"\u001b[39m]\n\u001b[0;32m----> 2\u001b[0m plt\u001b[38;5;241m.\u001b[39mimshow(\u001b[43mnp\u001b[49m\u001b[38;5;241;43m.\u001b[39;49m\u001b[43marray\u001b[49m\u001b[43m(\u001b[49m\u001b[43mmask\u001b[49m\u001b[43m)\u001b[49m\u001b[38;5;241;43m.\u001b[39;49m\u001b[43mastype\u001b[49m\u001b[43m(\u001b[49m\u001b[43mnp\u001b[49m\u001b[38;5;241;43m.\u001b[39;49m\u001b[43muint8\u001b[49m\u001b[43m)\u001b[49m\u001b[43m[\u001b[49m\u001b[38;5;241;43m3\u001b[39;49m\u001b[43m]\u001b[49m)\n",
      "\u001b[0;31mIndexError\u001b[0m: index 3 is out of bounds for axis 0 with size 3"
     ]
    }
   ],
   "source": [
    "mask = dataset[0][1][\"masks\"]\n",
    "plt.imshow(np.array(mask).astype(np.uint8)[3])"
   ]
  },
  {
   "cell_type": "code",
   "execution_count": 12,
   "id": "6d25b02f",
   "metadata": {},
   "outputs": [
    {
     "ename": "NameError",
     "evalue": "name 'dataloader' is not defined",
     "output_type": "error",
     "traceback": [
      "\u001b[0;31m---------------------------------------------------------------------------\u001b[0m",
      "\u001b[0;31mNameError\u001b[0m                                 Traceback (most recent call last)",
      "Cell \u001b[0;32mIn[12], line 1\u001b[0m\n\u001b[0;32m----> 1\u001b[0m \u001b[43mdataloader\u001b[49m\n",
      "\u001b[0;31mNameError\u001b[0m: name 'dataloader' is not defined"
     ]
    }
   ],
   "source": [
    "dataloader"
   ]
  },
  {
   "cell_type": "code",
   "execution_count": 18,
   "id": "15348772",
   "metadata": {},
   "outputs": [
    {
     "data": {
      "text/plain": [
       "([tensor([[[0.8667, 0.8314, 0.8431,  ..., 0.8863, 0.8667, 0.8745],\n",
       "           [0.8392, 0.8039, 0.8157,  ..., 0.8706, 0.8510, 0.8588],\n",
       "           [0.8510, 0.8157, 0.8235,  ..., 0.8745, 0.8549, 0.8627],\n",
       "           ...,\n",
       "           [0.3843, 0.3922, 0.3686,  ..., 0.7765, 0.7608, 0.7647],\n",
       "           [0.3647, 0.3608, 0.3647,  ..., 0.7686, 0.7569, 0.7647],\n",
       "           [0.3373, 0.3961, 0.4039,  ..., 0.7686, 0.7569, 0.7647]],\n",
       "  \n",
       "          [[0.8667, 0.8314, 0.8431,  ..., 0.8863, 0.8667, 0.8745],\n",
       "           [0.8392, 0.8039, 0.8157,  ..., 0.8706, 0.8510, 0.8588],\n",
       "           [0.8510, 0.8157, 0.8235,  ..., 0.8745, 0.8549, 0.8627],\n",
       "           ...,\n",
       "           [0.3333, 0.3412, 0.3176,  ..., 0.7765, 0.7608, 0.7569],\n",
       "           [0.3137, 0.3098, 0.3137,  ..., 0.7686, 0.7569, 0.7569],\n",
       "           [0.2863, 0.3451, 0.3529,  ..., 0.7686, 0.7569, 0.7569]],\n",
       "  \n",
       "          [[0.8667, 0.8314, 0.8431,  ..., 0.8863, 0.8667, 0.8745],\n",
       "           [0.8392, 0.8039, 0.8157,  ..., 0.8706, 0.8510, 0.8588],\n",
       "           [0.8510, 0.8157, 0.8235,  ..., 0.8745, 0.8549, 0.8627],\n",
       "           ...,\n",
       "           [0.2706, 0.2784, 0.2549,  ..., 0.7765, 0.7608, 0.7608],\n",
       "           [0.2510, 0.2471, 0.2510,  ..., 0.7686, 0.7569, 0.7608],\n",
       "           [0.2235, 0.2824, 0.2902,  ..., 0.7686, 0.7569, 0.7608]]])],\n",
       " [{'masks': tensor([[[0, 0, 0,  ..., 0, 0, 0],\n",
       "            [0, 0, 0,  ..., 0, 0, 0],\n",
       "            [0, 0, 0,  ..., 0, 0, 0],\n",
       "            ...,\n",
       "            [0, 0, 0,  ..., 0, 0, 0],\n",
       "            [0, 0, 0,  ..., 0, 0, 0],\n",
       "            [0, 0, 0,  ..., 0, 0, 0]],\n",
       "   \n",
       "           [[0, 0, 0,  ..., 0, 0, 0],\n",
       "            [0, 0, 0,  ..., 0, 0, 0],\n",
       "            [0, 0, 0,  ..., 0, 0, 0],\n",
       "            ...,\n",
       "            [0, 0, 0,  ..., 0, 0, 0],\n",
       "            [0, 0, 0,  ..., 0, 0, 0],\n",
       "            [0, 0, 0,  ..., 0, 0, 0]],\n",
       "   \n",
       "           [[0, 0, 0,  ..., 0, 0, 0],\n",
       "            [0, 0, 0,  ..., 0, 0, 0],\n",
       "            [0, 0, 0,  ..., 0, 0, 0],\n",
       "            ...,\n",
       "            [0, 0, 0,  ..., 0, 0, 0],\n",
       "            [0, 0, 0,  ..., 0, 0, 0],\n",
       "            [0, 0, 0,  ..., 0, 0, 0]]], dtype=torch.uint8),\n",
       "   'boxes': tensor([[  9, 107, 499, 263],\n",
       "           [421, 200, 482, 226],\n",
       "           [325, 188, 411, 223]], dtype=torch.int32),\n",
       "   'labels': tensor([1, 1, 1])}])"
      ]
     },
     "execution_count": 18,
     "metadata": {},
     "output_type": "execute_result"
    }
   ],
   "source": [
    "next(iter(data_loader))"
   ]
  },
  {
   "cell_type": "code",
   "execution_count": 3,
   "id": "1ad59c1e",
   "metadata": {},
   "outputs": [],
   "source": [
    "dataset = mrv.VOC_Dataset(root = \"/home\", image_set = \"train\")\n",
    "data_loader = mrv.VOC_Dataloader(dataset, batch_size = 10, shuffle = True)"
   ]
  },
  {
   "cell_type": "code",
   "execution_count": 11,
   "id": "f82058d2",
   "metadata": {},
   "outputs": [
    {
     "data": {
      "text/plain": [
       "torch.Size([1, 375, 500])"
      ]
     },
     "execution_count": 11,
     "metadata": {},
     "output_type": "execute_result"
    }
   ],
   "source": [
    "x = next(iter(data_loader))\n",
    "x[1][1]\n",
    "x[1][1][\"masks\"].shape"
   ]
  },
  {
   "cell_type": "code",
   "execution_count": 6,
   "id": "a7256913",
   "metadata": {},
   "outputs": [
    {
     "name": "stdout",
     "output_type": "stream",
     "text": [
      "[[[0 0 0 ... 0 0 0]\n",
      "  [0 0 0 ... 0 0 0]\n",
      "  [0 0 0 ... 0 0 0]\n",
      "  ...\n",
      "  [0 0 0 ... 0 0 0]\n",
      "  [0 0 0 ... 0 0 0]\n",
      "  [0 0 0 ... 0 0 0]]\n",
      "\n",
      " [[0 0 0 ... 0 0 0]\n",
      "  [0 0 0 ... 0 0 0]\n",
      "  [0 0 0 ... 0 0 0]\n",
      "  ...\n",
      "  [0 0 0 ... 0 0 0]\n",
      "  [0 0 0 ... 0 0 0]\n",
      "  [0 0 0 ... 0 0 0]]\n",
      "\n",
      " [[0 0 0 ... 0 0 0]\n",
      "  [0 0 0 ... 0 0 0]\n",
      "  [0 0 0 ... 0 0 0]\n",
      "  ...\n",
      "  [0 0 0 ... 0 0 0]\n",
      "  [0 0 0 ... 0 0 0]\n",
      "  [0 0 0 ... 0 0 0]]]\n",
      "\n"
     ]
    }
   ],
   "source": []
  },
  {
   "cell_type": "code",
   "execution_count": 7,
   "id": "91b7ff57",
   "metadata": {},
   "outputs": [
    {
     "data": {
      "text/plain": [
       "True"
      ]
     },
     "execution_count": 7,
     "metadata": {},
     "output_type": "execute_result"
    }
   ],
   "source": [
    "import os\n",
    "os.listdir(\"/home/VOCdevkit/VOC2012/SegmentationObject\") == os.listdir(\"/home/VOCdevkit/VOC2012/SegmentationClass\")[:]"
   ]
  },
  {
   "cell_type": "code",
   "execution_count": null,
   "id": "3f42160c",
   "metadata": {},
   "outputs": [],
   "source": []
  }
 ],
 "metadata": {
  "kernelspec": {
   "display_name": "Python 3 (ipykernel)",
   "language": "python",
   "name": "python3"
  },
  "language_info": {
   "codemirror_mode": {
    "name": "ipython",
    "version": 3
   },
   "file_extension": ".py",
   "mimetype": "text/x-python",
   "name": "python",
   "nbconvert_exporter": "python",
   "pygments_lexer": "ipython3",
   "version": "3.8.3"
  }
 },
 "nbformat": 4,
 "nbformat_minor": 5
}
