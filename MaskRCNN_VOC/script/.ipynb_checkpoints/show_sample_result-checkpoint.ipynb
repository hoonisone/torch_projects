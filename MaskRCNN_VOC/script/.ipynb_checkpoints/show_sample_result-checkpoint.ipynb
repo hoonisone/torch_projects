{
 "cells": [
  {
   "cell_type": "code",
   "execution_count": 1,
   "id": "13361b7f",
   "metadata": {},
   "outputs": [
    {
     "name": "stdout",
     "output_type": "stream",
     "text": [
      "Customized: torchvision.models.detection.roi_heads.maskrcnn_loss\n"
     ]
    }
   ],
   "source": [
    "from VOC2012_MaskRCNN_InstanceSegmentation import *"
   ]
  },
  {
   "cell_type": "code",
   "execution_count": 3,
   "id": "f6ac51af",
   "metadata": {
    "scrolled": true
   },
   "outputs": [],
   "source": [
    "task = MaskRCNN(\"name\", \"./../result/1/boundary(size=2)/checkpoint(7)\")\n",
    "task.show_sample_result(idx = 0, type = \"train\", device = 0)"
   ]
  },
  {
   "cell_type": "code",
   "execution_count": null,
   "id": "7d202d08",
   "metadata": {},
   "outputs": [],
   "source": []
  }
 ],
 "metadata": {
  "kernelspec": {
   "display_name": "torch1.12.1-py3.8-cuda11.3",
   "language": "python",
   "name": "torch1.12.1-py3.8-cuda11.3"
  },
  "language_info": {
   "codemirror_mode": {
    "name": "ipython",
    "version": 3
   },
   "file_extension": ".py",
   "mimetype": "text/x-python",
   "name": "python",
   "nbconvert_exporter": "python",
   "pygments_lexer": "ipython3",
   "version": "3.8.10"
  }
 },
 "nbformat": 4,
 "nbformat_minor": 5
}
