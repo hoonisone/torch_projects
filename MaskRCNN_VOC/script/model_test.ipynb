{
 "cells": [
  {
   "cell_type": "code",
   "execution_count": 1,
   "id": "fbfd9e80",
   "metadata": {},
   "outputs": [
    {
     "name": "stdout",
     "output_type": "stream",
     "text": [
      "Customized: torchvision.models.detection.roi_heads.maskrcnn_loss\n"
     ]
    }
   ],
   "source": [
    "import matplotlib.pyplot as plt\n",
    "import numpy as np\n",
    "import bbox_visualizer as bbv\n",
    "\n",
    "# from ultralytics import YOLO\n",
    "# from ultralytics.yolo.utils.ops import scale_image\n",
    "import cv2\n",
    "import numpy as np\n",
    "from pathlib import Path\n",
    "\n",
    "from PIL import Image\n",
    "from tqdm import tqdm\n",
    "\n",
    "import mh_utils as MH\n",
    "from VOC2012_MaskRCNN_InstanceSegmentation import *\n",
    "from torch.nn.parallel import DistributedDataParallel as DDP"
   ]
  },
  {
   "cell_type": "code",
   "execution_count": 2,
   "id": "d77f4336",
   "metadata": {},
   "outputs": [],
   "source": [
    "task = MaskRCNN(\"./../result/0/benchmark/checkpoint(20)\")"
   ]
  },
  {
   "cell_type": "code",
   "execution_count": 22,
   "id": "ff4c77b7",
   "metadata": {},
   "outputs": [],
   "source": [
    "task.get_model().roi_heads.mask_roi_pool.output_size = (20, 20)"
   ]
  },
  {
   "cell_type": "code",
   "execution_count": 24,
   "id": "727df785",
   "metadata": {},
   "outputs": [],
   "source": [
    "mask_roi_pool = task.get_model().roi_heads.mask_roi_pool\n"
   ]
  },
  {
   "cell_type": "code",
   "execution_count": 27,
   "id": "21056651",
   "metadata": {},
   "outputs": [
    {
     "data": {
      "text/plain": [
       "(20, 20)"
      ]
     },
     "execution_count": 27,
     "metadata": {},
     "output_type": "execute_result"
    }
   ],
   "source": [
    "mask_roi_pool.output_size"
   ]
  },
  {
   "cell_type": "code",
   "execution_count": 28,
   "id": "4f023ecf",
   "metadata": {},
   "outputs": [],
   "source": [
    "mask_roi_pool.output_size = (30, 30)"
   ]
  },
  {
   "cell_type": "code",
   "execution_count": null,
   "id": "0409f8a9",
   "metadata": {},
   "outputs": [],
   "source": []
  }
 ],
 "metadata": {
  "kernelspec": {
   "display_name": "torch1.12.1-py3.8-cuda11.3",
   "language": "python",
   "name": "torch1.12.1-py3.8-cuda11.3"
  },
  "language_info": {
   "codemirror_mode": {
    "name": "ipython",
    "version": 3
   },
   "file_extension": ".py",
   "mimetype": "text/x-python",
   "name": "python",
   "nbconvert_exporter": "python",
   "pygments_lexer": "ipython3",
   "version": "3.8.10"
  }
 },
 "nbformat": 4,
 "nbformat_minor": 5
}
